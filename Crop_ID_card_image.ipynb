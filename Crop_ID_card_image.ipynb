{
  "cells": [
    {
      "cell_type": "markdown",
      "metadata": {
        "id": "view-in-github",
        "colab_type": "text"
      },
      "source": [
        "<a href=\"https://colab.research.google.com/github/diyuenji/Crop_IDcard-image/blob/main/Crop_ID_card_image.ipynb\" target=\"_parent\"><img src=\"https://colab.research.google.com/assets/colab-badge.svg\" alt=\"Open In Colab\"/></a>"
      ]
    },
    {
      "cell_type": "code",
      "execution_count": 11,
      "metadata": {
        "colab": {
          "base_uri": "https://localhost:8080/",
          "height": 76
        },
        "collapsed": true,
        "id": "EOl9Mu-m4wuP",
        "outputId": "c1efe296-120f-46b0-a1e1-ce357ce93969"
      },
      "outputs": [
        {
          "output_type": "display_data",
          "data": {
            "text/plain": [
              "<IPython.core.display.HTML object>"
            ],
            "text/html": [
              "\n",
              "<a target=\"_blank\" href=\"https://colab.research.google.com/github/facebookresearch/segment-anything/blob/main/notebooks/predictor_example.ipynb\">\n",
              "  <img src=\"https://colab.research.google.com/assets/colab-badge.svg\" alt=\"Open In Colab\"/>\n",
              "</a>\n"
            ]
          },
          "metadata": {}
        },
        {
          "output_type": "stream",
          "name": "stdout",
          "text": [
            "CPU times: user 1.81 ms, sys: 953 µs, total: 2.76 ms\n",
            "Wall time: 2.63 ms\n"
          ]
        }
      ],
      "source": [
        "%%time\n",
        "from IPython.display import display, HTML\n",
        "display(HTML(\n",
        "\"\"\"\n",
        "<a target=\"_blank\" href=\"https://colab.research.google.com/github/facebookresearch/segment-anything/blob/main/notebooks/predictor_example.ipynb\">\n",
        "  <img src=\"https://colab.research.google.com/assets/colab-badge.svg\" alt=\"Open In Colab\"/>\n",
        "</a>\n",
        "\"\"\"\n",
        "))"
      ]
    },
    {
      "cell_type": "code",
      "source": [
        "!pip install ultralytics"
      ],
      "metadata": {
        "id": "ecegLMdWNhJL"
      },
      "execution_count": null,
      "outputs": []
    },
    {
      "cell_type": "markdown",
      "source": [
        "# Import library"
      ],
      "metadata": {
        "id": "5D_szVJBNtSk"
      }
    },
    {
      "cell_type": "code",
      "source": [
        "from ultralytics import YOLO\n",
        "import numpy as np\n",
        "import torch\n",
        "import matplotlib.pyplot as plt\n",
        "import cv2"
      ],
      "metadata": {
        "id": "Y1iPUqn7NsZg"
      },
      "execution_count": null,
      "outputs": []
    },
    {
      "cell_type": "markdown",
      "source": [
        "# Access to gg drive"
      ],
      "metadata": {
        "id": "UPuVI25KDoIu"
      }
    },
    {
      "cell_type": "code",
      "execution_count": 12,
      "metadata": {
        "colab": {
          "base_uri": "https://localhost:8080/"
        },
        "id": "Y4ae-YLcHIZ5",
        "outputId": "b8a80652-571e-4181-dcaf-020bb728d09a"
      },
      "outputs": [
        {
          "output_type": "stream",
          "name": "stdout",
          "text": [
            "Drive already mounted at /content/drive; to attempt to forcibly remount, call drive.mount(\"/content/drive\", force_remount=True).\n",
            "/content/drive/MyDrive/AI/YOLO/Hình ảnh\n",
            "CPU times: user 27.8 ms, sys: 2.65 ms, total: 30.4 ms\n",
            "Wall time: 3.08 s\n"
          ]
        }
      ],
      "source": [
        "%%time\n",
        "from google.colab import drive\n",
        "drive.mount('/content/drive')\n",
        "%cd /content/drive/MyDrive/AI/YOLO/Hình ảnh"
      ]
    },
    {
      "cell_type": "markdown",
      "source": [
        "# Set up SAM environment"
      ],
      "metadata": {
        "id": "uUg03uzoEE3g"
      }
    },
    {
      "cell_type": "code",
      "execution_count": 13,
      "metadata": {
        "colab": {
          "base_uri": "https://localhost:8080/"
        },
        "collapsed": true,
        "id": "w3tpVEyHHJv5",
        "outputId": "33d90494-672e-412b-ddd1-bd091b28a20a"
      },
      "outputs": [
        {
          "output_type": "stream",
          "name": "stdout",
          "text": [
            "PyTorch version: 2.5.1+cu124\n",
            "Torchvision version: 0.20.1+cu124\n",
            "CUDA is available: True\n",
            "Collecting git+https://github.com/facebookresearch/segment-anything.git\n",
            "  Cloning https://github.com/facebookresearch/segment-anything.git to /tmp/pip-req-build-3ghm1dpb\n",
            "  Running command git clone --filter=blob:none --quiet https://github.com/facebookresearch/segment-anything.git /tmp/pip-req-build-3ghm1dpb\n",
            "  Resolved https://github.com/facebookresearch/segment-anything.git to commit dca509fe793f601edb92606367a655c15ac00fdf\n",
            "  Preparing metadata (setup.py) ... \u001b[?25l\u001b[?25hdone\n",
            "CPU times: user 982 ms, sys: 155 ms, total: 1.14 s\n",
            "Wall time: 5.74 s\n"
          ]
        }
      ],
      "source": [
        "%%time\n",
        "using_colab = True\n",
        "if using_colab:\n",
        "    import torch\n",
        "    import torchvision\n",
        "    print(\"PyTorch version:\", torch.__version__)\n",
        "    print(\"Torchvision version:\", torchvision.__version__)\n",
        "    print(\"CUDA is available:\", torch.cuda.is_available())\n",
        "    import sys\n",
        "    # !{sys.executable} -m pip install opencv-python matplotlib\n",
        "    !{sys.executable} -m pip install 'git+https://github.com/facebookresearch/segment-anything.git'\n",
        "\n",
        "    # !mkdir images\n",
        "    # !wget -P images https://raw.githubusercontent.com/facebookresearch/segment-anything/main/notebooks/images/truck.jpg\n",
        "    # !wget -P images https://raw.githubusercontent.com/facebookresearch/segment-anything/main/notebooks/images/groceries.jpg\n",
        "\n",
        "    # !wget https://dl.fbaipublicfiles.com/segment_anything/sam_vit_h_4b8939.pth"
      ]
    },
    {
      "cell_type": "code",
      "execution_count": 14,
      "metadata": {
        "colab": {
          "base_uri": "https://localhost:8080/"
        },
        "id": "n4eTtGEi0CnD",
        "outputId": "c2391167-8695-445e-c766-318f7e3be071"
      },
      "outputs": [
        {
          "output_type": "stream",
          "name": "stdout",
          "text": [
            "Total load 1st time: 25.122 seconds\n"
          ]
        }
      ],
      "source": [
        "from segment_anything import sam_model_registry, SamPredictor\n",
        "from timeit import default_timer as timer\n",
        "start_time = timer()\n",
        "\n",
        "sam_checkpoint = \"/content/drive/MyDrive/AI/SAM model checkpoints/sam_vit_h_4b8939.pth\"\n",
        "model_type = \"vit_h\"\n",
        "\n",
        "device = \"cuda\"\n",
        "\n",
        "sam = sam_model_registry[model_type](checkpoint=sam_checkpoint)\n",
        "sam.to(device=device)\n",
        "\n",
        "predictor = SamPredictor(sam)\n",
        "end_time = timer()\n",
        "print(f\"Total load 1st time: {end_time-start_time:.3f} seconds\")"
      ]
    },
    {
      "cell_type": "markdown",
      "source": [
        "# Function definition"
      ],
      "metadata": {
        "id": "QVieH30uEKOV"
      }
    },
    {
      "cell_type": "code",
      "execution_count": 16,
      "metadata": {
        "id": "APyNSuvWHVJJ"
      },
      "outputs": [],
      "source": [
        "def show_mask(mask, ax, random_color=False):\n",
        "    if random_color:\n",
        "        color = np.concatenate([np.random.random(3), np.array([0.6])], axis=0)\n",
        "    else:\n",
        "        color = np.array([30/255, 144/255, 255/255, 0.6])\n",
        "    h, w = mask.shape[-2:]\n",
        "    mask_image = mask.reshape(h, w, 1) * color.reshape(1, 1, -1)\n",
        "    ax.imshow(mask_image)\n",
        "\n",
        "def show_points(coords, labels, ax, marker_size=375):\n",
        "    pos_points = coords[labels==1]\n",
        "    neg_points = coords[labels==0]\n",
        "    ax.scatter(pos_points[:, 0], pos_points[:, 1], color='green', marker='*', s=marker_size, edgecolor='white', linewidth=1.25)\n",
        "    ax.scatter(neg_points[:, 0], neg_points[:, 1], color='red', marker='*', s=marker_size, edgecolor='white', linewidth=1.25)\n",
        "\n",
        "def show_box(box, ax):\n",
        "    x0, y0 = box[0], box[1]\n",
        "    w, h = box[2] - box[0], box[3] - box[1]\n",
        "    ax.add_patch(plt.Rectangle((x0, y0), w, h, edgecolor='green', facecolor=(0,0,0,0), lw=2))\n"
      ]
    },
    {
      "cell_type": "code",
      "execution_count": 17,
      "metadata": {
        "id": "PaTz_kO70IxS"
      },
      "outputs": [],
      "source": [
        "# def convert(bb_n,img_w=640,img_h=480):\n",
        "#   #bb_n format x,y,w,h\n",
        "#   new_bb=np.array([0.0,0.0,0.0,0.0])\n",
        "#   bbox_w=bb_n[2]*img_w\n",
        "#   bbox_h=bb_n[3]*img_h\n",
        "#   new_bb[0]=bb_n[0]*img_w-bbox_w/2 #tleft_x\n",
        "#   new_bb[1]=bb_n[1]*img_h-bbox_h/2 #bright_x\n",
        "#   new_bb[2]=bb_n[0]*img_w+bbox_w/2 #tleft_y\n",
        "#   new_bb[3]=bb_n[1]*img_h+bbox_h/2 #bright_y\n",
        "\n",
        "#   return new_bb"
      ]
    },
    {
      "cell_type": "code",
      "execution_count": 18,
      "metadata": {
        "id": "_7VndEP7K3U4"
      },
      "outputs": [],
      "source": [
        "import numpy as np\n",
        "def define_corner(mask):\n",
        "\n",
        "  width=len(mask[0])\n",
        "  height=len(mask)\n",
        "\n",
        "  # print(width)\n",
        "  # print(height)\n",
        "  C_x=-1\n",
        "  C_y=-1\n",
        "\n",
        "  A_x=width\n",
        "  A_y= -1\n",
        "\n",
        "  D_y=-1\n",
        "  D_x =-1\n",
        "\n",
        "  B_y=height\n",
        "  B_x=-1\n",
        "  for h in range (0,height):\n",
        "    for w in range (0,width):\n",
        "      if mask[h][w]==True:\n",
        "        if w<A_x:\n",
        "          A_x=w\n",
        "          A_y=h\n",
        "        if w>C_x:\n",
        "          C_x=w\n",
        "          C_y=h\n",
        "        if h<B_y:\n",
        "          B_x=w\n",
        "          B_y=h\n",
        "        if h>D_y:\n",
        "          D_x=w\n",
        "          D_y=h\n",
        "  output_list=np.array([[A_x , A_y] , [B_x , B_y], [C_x, C_y ], [D_x, D_y]])\n",
        "  return output_list\n"
      ]
    },
    {
      "cell_type": "code",
      "source": [
        "def angle_2vect(vecto1,vecto2):\n",
        "  dot_product = np.dot(vecto1, vecto2)  # Tich vo huong\n",
        "  norm_vecto1 = np.linalg.norm(vecto1)  # Chieu dai dai so v1\n",
        "  norm_vecto2 = np.linalg.norm(vecto2)  # Chieu dai dai so v2\n",
        "  cos_angle = dot_product / (norm_vecto1 * norm_vecto2)\n",
        "  angle_rad = np.arccos(cos_angle)\n",
        "  angle_deg = np.degrees(angle_rad)\n",
        "  return angle_deg"
      ],
      "metadata": {
        "id": "9x-jx5Fb0wuy"
      },
      "execution_count": 19,
      "outputs": []
    },
    {
      "cell_type": "markdown",
      "source": [
        "# Define the corner of image\n",
        "## Read image"
      ],
      "metadata": {
        "id": "VYruoXVQEXwl"
      }
    },
    {
      "cell_type": "code",
      "execution_count": null,
      "metadata": {
        "id": "MMMsoRdVHWjI"
      },
      "outputs": [],
      "source": [
        "image = cv2.imread('/content/drive/MyDrive/AI/YOLO/Hình ảnh/Train/images/QUE_NCOV_04_03_18641_1.jpg')\n",
        "\n",
        "# image = cv2.imread('/content/drive/MyDrive/AI/YOLO/Hình ảnh/Train/images/QUE_NCOV_04_03_19254_1.jpg')\n",
        "image = cv2.cvtColor(image, cv2.COLOR_BGR2RGB)\n",
        "image.shape\n",
        "w=image.shape[1]\n",
        "h=image.shape[0]\n",
        "image"
      ]
    },
    {
      "cell_type": "markdown",
      "source": [
        "## Get bounding box of ID card use YOLO pretrained weight"
      ],
      "metadata": {
        "id": "Q7JRHjqvElup"
      }
    },
    {
      "cell_type": "code",
      "source": [
        "model = YOLO(\"/content/drive/MyDrive/AI/YOLO/ID detect_yolo weights/best.pt\")  # load a custom model\n",
        "\n",
        "# Predict with the model\n",
        "results = model(image)\n",
        "\n",
        "for result in results:\n",
        "  boxes = result.boxes\n",
        "  result.show()\n",
        "\n",
        "tleft_x, tleft_y = int(boxes.xyxy[0][0]), int(boxes.xyxy[0][2])\n",
        "bright_x, bright_y = int(boxes.xyxy[0][1]), int(boxes.xyxy[0][3])"
      ],
      "metadata": {
        "id": "Lx-EaNpBJRvd"
      },
      "execution_count": null,
      "outputs": []
    },
    {
      "cell_type": "code",
      "execution_count": 63,
      "metadata": {
        "id": "r24EtVpC0KiK",
        "colab": {
          "base_uri": "https://localhost:8080/"
        },
        "outputId": "da676b1a-e056-4754-f3b5-756b8fddf2f8"
      },
      "outputs": [
        {
          "output_type": "execute_result",
          "data": {
            "text/plain": [
              "(array([165,   0, 566, 478]),\n",
              " array([     181.85,     0.79992,       544.8,      466.48]))"
            ]
          },
          "metadata": {},
          "execution_count": 63
        }
      ],
      "source": [
        "# filename=\"/content/drive/MyDrive/AI/YOLO/Hình ảnh/Train/labels/QUE_NCOV_04_03_18641_1.txt\"\n",
        "# input_box = np.array([0.0 , 0.0 , 0.0 , 0.0])\n",
        "\n",
        "# with open(filename,'r') as file:\n",
        "#   count=0\n",
        "#   for line in file:\n",
        "#       for word in line.split():\n",
        "#         if count>0:\n",
        "#           input_box[count-1]=word\n",
        "#         count+=1\n",
        "\n",
        "# input_box1 = convert(input_box)\n",
        "input_box =np.array([ tleft_x, bright_x, tleft_y, bright_y])\n",
        "input_box"
      ]
    },
    {
      "cell_type": "markdown",
      "source": [
        "## Define central point depend on boundng box"
      ],
      "metadata": {
        "id": "C_N_1JaWE2s8"
      }
    },
    {
      "cell_type": "code",
      "execution_count": 64,
      "metadata": {
        "id": "Dbn027xd56sy",
        "colab": {
          "base_uri": "https://localhost:8080/"
        },
        "outputId": "e1c417bf-9eea-4040-f2b7-2b23b7f0f98f"
      },
      "outputs": [
        {
          "output_type": "execute_result",
          "data": {
            "text/plain": [
              "array([[      365.5,         239]])"
            ]
          },
          "metadata": {},
          "execution_count": 64
        }
      ],
      "source": [
        "input_point=np.array([[0.0,0.0]])\n",
        "input_point[0][0]=(input_box[2]-input_box[0])/2+input_box[0] # (tleft_y-tleft_x)/2+tleft_x\n",
        "input_point[0][1]=(input_box[3]-input_box[1])/2+input_box[1] #\n",
        "input_point"
      ]
    },
    {
      "cell_type": "code",
      "execution_count": 65,
      "metadata": {
        "id": "Q1aAyDdg8_em"
      },
      "outputs": [],
      "source": [
        "input_label = np.array([1])"
      ]
    },
    {
      "cell_type": "markdown",
      "source": [
        "## Use Sam to create mask of ID card"
      ],
      "metadata": {
        "id": "w6E20b4zE_9Y"
      }
    },
    {
      "cell_type": "code",
      "execution_count": 66,
      "metadata": {
        "id": "sC4AL5ojbYov",
        "colab": {
          "base_uri": "https://localhost:8080/"
        },
        "outputId": "53ede77b-efab-4f4f-9129-d4b98561d8db"
      },
      "outputs": [
        {
          "output_type": "stream",
          "name": "stdout",
          "text": [
            "CPU times: user 1.77 s, sys: 5.22 ms, total: 1.77 s\n",
            "Wall time: 1.77 s\n"
          ]
        }
      ],
      "source": [
        "%%time\n",
        "predictor.set_image(image)"
      ]
    },
    {
      "cell_type": "code",
      "execution_count": 67,
      "metadata": {
        "id": "cupX4SDt0L6p",
        "colab": {
          "base_uri": "https://localhost:8080/"
        },
        "outputId": "a94bd866-346f-4f51-b5a2-d3186f9a15a2"
      },
      "outputs": [
        {
          "output_type": "stream",
          "name": "stdout",
          "text": [
            "CPU times: user 18.9 ms, sys: 0 ns, total: 18.9 ms\n",
            "Wall time: 18.4 ms\n"
          ]
        }
      ],
      "source": [
        "%%time\n",
        "masks, _, _ = predictor.predict(\n",
        "    point_coords=input_point,\n",
        "    point_labels=input_label,\n",
        "    # point_coords=None,\n",
        "    # point_labels=None,\n",
        "    box=input_box,  # Bounding box of ID card\n",
        "    multimask_output=False,\n",
        ")"
      ]
    },
    {
      "cell_type": "code",
      "execution_count": 68,
      "metadata": {
        "id": "Wu1AYbUP0PO1",
        "colab": {
          "base_uri": "https://localhost:8080/"
        },
        "outputId": "9bd83218-74e1-4794-bf01-9a02e72b9b1a"
      },
      "outputs": [
        {
          "output_type": "stream",
          "name": "stdout",
          "text": [
            "CPU times: user 313 ms, sys: 2.25 ms, total: 315 ms\n",
            "Wall time: 327 ms\n"
          ]
        },
        {
          "output_type": "execute_result",
          "data": {
            "text/plain": [
              "(array([[False],\n",
              "        [ True]]),\n",
              " array([158223, 148977]))"
            ]
          },
          "metadata": {},
          "execution_count": 68
        }
      ],
      "source": [
        "%%time\n",
        "uniqueRows =np.unique(masks[0].reshape(-1, 1), axis=0, return_counts=True)\n",
        "uniqueRows"
      ]
    },
    {
      "cell_type": "code",
      "execution_count": 69,
      "metadata": {
        "id": "rg-rpGCI0Xb3",
        "colab": {
          "base_uri": "https://localhost:8080/",
          "height": 618
        },
        "outputId": "22b4f76b-ccec-430e-80e8-a86b49bd451a"
      },
      "outputs": [
        {
          "output_type": "display_data",
          "data": {
            "text/plain": [
              "<Figure size 1000x1000 with 1 Axes>"
            ],
            "image/png": "[encoded data removed]"
          },
          "metadata": {}
        }
      ],
      "source": [
        "plt.figure(figsize=(10, 10))\n",
        "plt.imshow(masks[0])\n",
        "\n",
        "plt.axis('off')\n",
        "plt.show()"
      ]
    },
    {
      "cell_type": "markdown",
      "source": [
        "## Deffine 4 corner through ID card mask"
      ],
      "metadata": {
        "id": "5ZqTox5IFPXJ"
      }
    },
    {
      "cell_type": "code",
      "execution_count": 70,
      "metadata": {
        "id": "1pW-likFR4iC"
      },
      "outputs": [],
      "source": [
        "# np.array([[x_max , y_x_max] , [x_min , y_x_min], [x_y_max,y_max ], [x_y_min,y_min]])\n",
        "# corner=np.array([[619,  34],\n",
        "#        [223, 459],\n",
        "#        [515, 478],\n",
        "      #  [275,   1]])\n",
        "corner=define_corner(masks[0])\n",
        "# corner\n",
        "# corner= np.array([[ 59, 254],\n",
        "#        [128,  13],\n",
        "#        [541,  99],\n",
        "#        [472, 359]])\n",
        "# corner.shape"
      ]
    },
    {
      "cell_type": "code",
      "execution_count": 71,
      "metadata": {
        "id": "A9A638UWOC3t"
      },
      "outputs": [],
      "source": [
        "input_pointA=np.expand_dims(corner[0], axis=0)\n",
        "input_pointB=np.expand_dims(corner[1], axis=0)\n",
        "input_pointC=np.expand_dims(corner[2], axis=0)\n",
        "input_pointD=np.expand_dims(corner[3], axis=0)\n"
      ]
    },
    {
      "cell_type": "code",
      "execution_count": 72,
      "metadata": {
        "id": "tJPoZlMAhsBp",
        "colab": {
          "base_uri": "https://localhost:8080/"
        },
        "outputId": "0921f192-3c9a-4704-a595-38cc80f97b72"
      },
      "outputs": [
        {
          "output_type": "execute_result",
          "data": {
            "text/plain": [
              "array([[      365.5,         239]])"
            ]
          },
          "metadata": {},
          "execution_count": 72
        }
      ],
      "source": [
        "input_point"
      ]
    },
    {
      "cell_type": "code",
      "execution_count": null,
      "metadata": {
        "id": "vPfleVlzFzIX"
      },
      "outputs": [],
      "source": [
        "plt.figure(figsize=(10, 10))\n",
        "plt.imshow(image)\n",
        "# show_mask(masks[0], plt.gca())\n",
        "show_box(input_box, plt.gca())\n",
        "show_points(input_point, input_label, plt.gca())\n",
        "show_points(input_pointA, input_label, plt.gca())\n",
        "show_points(input_pointB, input_label, plt.gca())\n",
        "show_points(input_pointC, input_label, plt.gca())\n",
        "show_points(input_pointD, input_label, plt.gca())\n",
        "plt.axis('off')\n",
        "plt.show()"
      ]
    },
    {
      "cell_type": "markdown",
      "source": [
        "# Adjust identification card\n",
        "\n",
        "\n",
        "\n",
        "\n"
      ],
      "metadata": {
        "id": "-oPn00mS-esW"
      }
    },
    {
      "cell_type": "markdown",
      "source": [
        "## Define if ID card rotate clockwise or counterclockwise"
      ],
      "metadata": {
        "id": "LwtA6x-4zkBF"
      }
    },
    {
      "cell_type": "code",
      "source": [
        "print(input_pointA)\n",
        "print(input_pointC)"
      ],
      "metadata": {
        "id": "xLgOhMF90OjX",
        "colab": {
          "base_uri": "https://localhost:8080/"
        },
        "outputId": "e2b4d549-50f3-45c5-a873-47483655756b"
      },
      "execution_count": 74,
      "outputs": [
        {
          "output_type": "stream",
          "name": "stdout",
          "text": [
            "[[160 413]]\n",
            "[[564  24]]\n"
          ]
        }
      ]
    },
    {
      "cell_type": "code",
      "source": [
        "vecto_AC = input_pointC- input_pointA\n",
        "vecto_BD = input_pointD- input_pointB\n",
        "print(vecto_AC)\n",
        "print(vecto_BD)"
      ],
      "metadata": {
        "id": "CP4_CjcDz2BD",
        "colab": {
          "base_uri": "https://localhost:8080/"
        },
        "outputId": "66a15337-52d6-4083-89c2-7bfbe29f14dc"
      },
      "execution_count": 75,
      "outputs": [
        {
          "output_type": "stream",
          "name": "stdout",
          "text": [
            "[[ 404 -389]]\n",
            "[[121 475]]\n"
          ]
        }
      ]
    },
    {
      "cell_type": "code",
      "source": [
        "angle = angle_2vect(vecto_AC[0,:],vecto_BD[0,:])  # Remove 1st dimension\n",
        "print(angle)"
      ],
      "metadata": {
        "id": "b_iKoKvh4fv_",
        "colab": {
          "base_uri": "https://localhost:8080/"
        },
        "outputId": "f9a04fab-736d-49d2-ea00-adcd301ae5f8"
      },
      "execution_count": 76,
      "outputs": [
        {
          "output_type": "stream",
          "name": "stdout",
          "text": [
            "119.62495660418755\n"
          ]
        }
      ]
    },
    {
      "cell_type": "markdown",
      "source": [
        "## Use perspective transformation"
      ],
      "metadata": {
        "id": "FToO0t_YwUOT"
      }
    },
    {
      "cell_type": "markdown",
      "source": [
        "### Define projective matrix"
      ],
      "metadata": {
        "id": "P-42nj4s6S-_"
      }
    },
    {
      "cell_type": "code",
      "source": [
        "src_points = np.float32([input_pointA[0,:], input_pointB[0,:], input_pointC[0,:], input_pointD[0,:]])\n",
        "dst_points = np.float32([[0,h-1], [0,0], [w-1,0], [w-1,h-1]]) if angle <90 else  np.float32([[0,0], [w-1,0], [w-1,h-1],[0,h-1]])\n",
        "M = cv2.getPerspectiveTransform(src_points, dst_points)"
      ],
      "metadata": {
        "id": "Ya1iVYFB6rnS"
      },
      "execution_count": 77,
      "outputs": []
    },
    {
      "cell_type": "markdown",
      "source": [
        "### Define transformed image"
      ],
      "metadata": {
        "id": "ayX4fnVQC-M_"
      }
    },
    {
      "cell_type": "code",
      "source": [
        "projective_image = cv2.warpPerspective(image, M, (image.shape[1], image.shape[0]))\n",
        "plt.imshow(projective_image)"
      ],
      "metadata": {
        "id": "YoXb3fu0_drm"
      },
      "execution_count": null,
      "outputs": []
    },
    {
      "cell_type": "code",
      "source": [],
      "metadata": {
        "id": "pII2mfkAtUtb"
      },
      "execution_count": 39,
      "outputs": []
    }
  ],
  "metadata": {
    "colab": {
      "provenance": [],
      "gpuType": "T4",
      "collapsed_sections": [
        "uUg03uzoEE3g",
        "QVieH30uEKOV"
      ],
      "include_colab_link": true
    },
    "kernelspec": {
      "display_name": "Python 3",
      "name": "python3"
    },
    "language_info": {
      "name": "python"
    },
    "accelerator": "GPU"
  },
  "nbformat": 4,
  "nbformat_minor": 0
}
